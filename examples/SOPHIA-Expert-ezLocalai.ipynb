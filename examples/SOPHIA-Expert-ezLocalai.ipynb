Train an Expert Agent in Sophia III with ezLocalai Provider
This example assumes that you have your Sophia III and ezLocalai servers set up and running. This example is specifically for running Sophia III with ezLocalai and training a local agent. If you do not wish to run local models, we have the same example set up for using an agent with the OpenAI API.

If you do not have ezLocalai set up and you want to set it up to run local models, go to https://github.com/DevXT-LLC/ezlocalai and follow the instructions there to set up the server, then continue with this example.

Create the Agent
For this example, we will create an expert on Sophia III. These settings can be easily changed in the Streamlit app or over API.

Modify the sophia_server, api_key, agent_name, EZLOCALAI_API_URL, EZLOCALAI_API_KEY, persona, and any others as needed.

python
Kopyala
Düzenle
from agixtsdk import AGiXTSDK

sophia_server = "http://localhost:7437"  # Change this to your Sophia III server URL
api_key = "None"  # Change this to your Sophia III API key (This should be your JWT in the web interface)
sophia = AGiXTSDK(base_uri=sophia_server, api_key=api_key)

# If you don't have your JWT but have your authenticator:
# sophia = AGiXTSDK(base_uri=sophia_server)
# sophia.login(email="Your email address", otp="123456")

agent_name = "Sophia III"  # Change this if desired

sophia.add_agent(
    agent_name=agent_name,
    settings={
        "provider": "rotation",
        "vision_provider": "rotation",
        "tts_provider": "ezlocalai",
        "transcription_provider": "default",
        "translation_provider": "default",
        "embeddings_provider": "default",
        "image_provider": "None",
        "ANTHROPIC_API_KEY": "",
        "ANTHROPIC_MODEL": "claude-3-5-sonnet-20241022",
        "AZURE_MODEL": "",
        "AZURE_API_KEY": "",
        "AZURE_OPENAI_ENDPOINT": "",
        "AZURE_DEPLOYMENT_NAME": "",
        "AZURE_TEMPERATURE": 0.7,
        "AZURE_TOP_P": 0.95,
        "DEEPSEEK_API_KEY": "",
        "DEEPSEEK_MODEL": "deepseek-chat",
        "GOOGLE_API_KEY": "",
        "GOOGLE_MODEL": "gemini-exp-1206",
        "GOOGLE_TEMPERATURE": 0.7,
        "GOOGLE_TOP_P": 0.95,
        "EZLOCALAI_API_URI": "http://ezlocalai:8091/v1/",  # URL for the EZLOCALAI API, change this to your EZLOCALAI API URL. Never use localhost here, it is a different container.
        "EZLOCALAI_API_KEY": "Your EZLOCALAI API key",  # Change this to your EZLOCALAI API key
        "EZLOCALAI_VOICE": "DukeNukem",  # Voice for TTS, change this to the voice you want to use from ezlocalai.
        "EZLOCALAI_TEMPERATURE": 1.33,
        "EZLOCALAI_TOP_P": 0.95,
        "OPENAI_API_KEY": "",  # Enter your OpenAI API key here
        "OPENAI_MODEL": "chatgpt-4o-latest",
        "XAI_API_KEY": "",
        "XAI_MODEL": "grok-beta",
        "EZLOCALAI_MAX_TOKENS": "1",
        "DEEPSEEK_MAX_TOKENS": "60000",
        "AZURE_MAX_TOKENS": "100000",
        "XAI_MAX_TOKENS": "120000",
        "OPENAI_MAX_TOKENS": "128000",
        "ANTHROPIC_MAX_TOKENS": "200000",
        "GOOGLE_MAX_TOKENS": "2097152",
        "SMARTEST_PROVIDER": "anthropic",
        "mode": "prompt",
        "prompt_name": "Think About It",
        "prompt_category": "Default",
        "analyze_user_input": False,
        "websearch": False,
        "websearch_depth": 2,
        "WEBSEARCH_TIMEOUT": 0,
        "persona": "Sophia III is an expert on the Sophia III AI agent automation platform and supports the users of Sophia III.",  # Use this field to set persona for the AI model
        "tts": False,
    },
    training_urls=[],  # Add training URLs here if you want to train the agent
)
Zip Your Training Data
Create a zip file called training_data.zip of the Sophia III docs folder. You can change this to any folder that you would like to use as training data, or skip this step and use an existing zip file.

A good example of what to use for training data would be any PDF, Word document, text file, or any other kind of file with information in it that you would like the agent to learn from.

python
Kopyala
Düzenle
from zipfile import ZipFile
import os

os.chdir("../")
with ZipFile("examples/training_data.zip", "w") as zipObj:
    for foldername, subfolders, filenames in os.walk("docs"):
        for filename in filenames:
            file_path = os.path.join(foldername, filename)
            zipObj.write(file_path)
os.chdir("examples/")
Train the Agent on the Training Data
Train the agent on the training data you provided. This process duration depends on the training data size.

python
Kopyala
Düzenle
import base64

zip_file_name = "training_data.zip"
training_data = base64.b64encode(open(zip_file_name, "rb").read()).decode("utf-8")

sophia.learn_file(
    agent_name=agent_name,
    file_name=zip_file_name,
    file_content=training_data,
    collection_number="0",
)
Chat with Your Trained Expert Sophia III Agent
Sophia III has direct support for using the OpenAI API for chat completions.

python
Kopyala
Düzenle
import openai

prompt = "What can you tell me about Sophia III?"

openai.base_url = f"{sophia_server}/v1/"
openai.api_key = api_key

response = openai.chat.completions.create(
    model=agent_name,
    messages=[{"role": "user", "content": prompt}],
    user="Tell me about Sophia III",  # This field is used for the conversation name; if empty, it will use today's date
)
print(response.choices[0].message.content)
That's All!
You now have a trained expert agent in Sophia III. This agent will be able to support users by answering questions, providing information, and more about Sophia III.

