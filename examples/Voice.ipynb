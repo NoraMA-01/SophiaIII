from Listen import SophiaIIISDKListen
from sophiasdk import SophiaIIISDK
from datetime import datetime

SOPHIA_SERVER = "http://localhost:7437"
API_KEY = ""
AGENT_NAME = "gpt4free"

sdk = SophiaIIISDK(
    base_uri=SOPHIA_SERVER,
    api_key=API_KEY,
)

# Wake function take one input only, the transcribed text.
def voice_chat(text):
    print(f"Sending text to agent: {text}")
    text_response = sdk.chat(
        agent_name=AGENT_NAME,
        user_input=text,
        conversation=datetime.now().strftime("%Y-%m-%d"),
        context_results=4,
    )
    return text_response


def voice_instruct(text):
    print(f"Sending text to agent: {text}")
    text_response = sdk.instruct(
        agent_name=AGENT_NAME,
        user_input=text,
        conversation=datetime.now().strftime("%Y-%m-%d"),
    )
    return text_response


# Wake functions are stored in a dictionary, the key is the wake word and the value is the function.
WAKE_FUNCTIONS = {
    "chat": voice_chat,
    "instruct": voice_instruct,
}

listener = SophiaIIISDKListen(
    server=SOPHIA_SERVER,
    api_key=API_KEY,
    agent_name=AGENT_NAME,
    wake_functions=WAKE_FUNCTIONS,
    wake_word="hey assistant",  # Make sure this matches your intended wake word
)
listener.listen()
