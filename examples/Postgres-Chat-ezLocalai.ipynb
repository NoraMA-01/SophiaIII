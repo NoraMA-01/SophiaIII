from sophiasdk import SophiaIIISDK

sophia_server = "http://localhost:7437"  # Change this to your Sophia III server URL
api_key = "None"  # Change this to your Sophia III API key

sophia = SophiaIIISDK(base_uri=sophia_server, api_key=api_key)

agent_name = "Postgres"  # Change this if desired

sophia.add_agent(
    agent_name=agent_name,
    settings={
        "provider": "ezlocalai",  # LLM Provider
        "transcription_provider": "ezlocalai",  # Voice transcription provider, default uses the built in transcription in Sophia III.
        "translation_provider": "ezlocalai",  # Voice translation provider, default uses the built in translation in Sophia III.
        "embeddings_provider": "default",  # Embeddings provider, default uses the built in embeddings in Sophia III.
        "image_provider": "None",  # If set, Sophia III will autonomously create images if it chooses to do so based on the conversation.
        "vision_provider": "ezlocalai",  # Vision provider, None means no vision capabilities. We will use OpenAI's since we're using GPT-4o.
        "tts_provider": "None",  # The responses in Postgres Chat will often be CSV format, so we don't need TTS.
        "AI_MODEL": "ezlocalai",  # It doesn't matter which model you put here, ezlocalai uses the model it was started with.
        "EZLOCALAI_API_URI": "http://ezlocalai:8091/v1/",  # URL for the EZLOCALAI API, change this to your EZLOCALAI API URL. Never use localhost here, it is a different container.
        "EZLOCALAI_API_KEY": "Your EZLOCALAI API key",  # Change this to your EZLOCALAI API key
        "MAX_TOKENS": 4096,
        "AI_TEMPERATURE": "0.7",
        "AI_TOP_P": "0.95",
        "mode": "chain",  # For info about chat completion modes, go to https://nora-ma-01.github.io/Sophia-III/2-Concepts/04-Chat%20Completions.html
        "chain_name": "Postgres Chat",
        "chain_args": "{}",
        "POSTGRES_DATABASE_HOST": "postgres",  # Change this to your Postgres database host
        "POSTGRES_DATABASE_NAME": "postgres",  # Change this to your Postgres database name
        "POSTGRES_DATABASE_PORT": "5432",  # Change this to your Postgres database port
        "POSTGRES_DATABASE_USERNAME": "postgres",  # Change this to your Postgres database username
        "POSTGRES_DATABASE_PASSWORD": "postgres",  # Change this to your Postgres database password
    },
)
