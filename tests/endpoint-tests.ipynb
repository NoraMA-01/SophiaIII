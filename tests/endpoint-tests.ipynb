import random
import string
import time
import openai
from agixtsdk import AGiXTSDK
import requests
import os
import re


def display_content(content):
    outputs_url = f"http://localhost:7437/outputs/"
    os.makedirs("outputs", exist_ok=True)
    try:
        from IPython.display import Audio, display, Image, Video
    except:
        print(content)
        return
    if "http://localhost:8091/outputs/" in content:
        if outputs_url != "http://localhost:8091/outputs/":
            content = content.replace("http://localhost:8091/outputs/", outputs_url)
    if outputs_url in content:
        urls = re.findall(f"{re.escape(outputs_url)}[^\"' ]+", content)
        urls = urls[0].split("\n\n")
        for url in urls:
            file_name = url.split("/")[-1]
            url = f"{outputs_url}{file_name}"
            data = requests.get(url, headers=sophiaIII.headers).content
            if url.endswith(".jpg") or url.endswith(".png"):
                content = content.replace(url, "")
                display(Image(url=url))
            elif url.endswith(".mp4"):
                content = content.replace(url, "")
                display(Video(url=url, autoplay=True))
            elif url.endswith(".wav"):
                content = content.replace(url, "")
                display(Audio(url=url, autoplay=True))
    print(content)


failures = 0
random_string = "".join(
    random.choices(string.ascii_uppercase + string.digits, k=10)
).lower()
test_email = f"{random_string}@test.com"
sophiaIII = AGiXTSDK(base_uri="http://localhost:7437", verbose=True)

while failures < 100:
    try:
        otp_uri = sophiaIII.register_user(
            email=test_email, first_name="Test", last_name="User"
        )
        openai.base_url = "http://localhost:7437/v1/"
        openai.api_key = sophiaIII.headers["Authorization"]
        break
    except Exception as e:
        print(e)
        failures += 1
        time.sleep(5)

# Show QR code for MFA setup
import qrcode
from IPython.display import Image

qr = qrcode.QRCode()
qr.add_data(otp_uri)
qr.make(fit=True)
img = qr.make_image(fill="black", back_color="white")
img.save("qr.png")
Image(filename="qr.png")

# Confirm user exists
user_exists = sophiaIII.user_exists(email=test_email)
# Status Code: 200
# Response JSON:
# True


# Update User's Name
update_user = sophiaIII.update_user(first_name="Super", last_name="Man")
# Status Code: 200
# Response JSON:
# {'detail': 'User updated successfully.'}


# Get User Details
user_details = sophiaIII.get_user()
# Status Code: 200
# Response JSON:
# {'email': 'aktuwbbglo@test.com', 'first_name': 'Super', 'last_name': 'Man', 'timezone': 'America/New_York', 'ip_address': '192.168.144.1', 'input_tokens': 0, 'output_tokens': 0}


# Get a list of Providers
# This will get a list of AI Providers available to use with Sophia III.

providers = sophiaIII.get_providers()
# ['perplexity', 'gpt4free', 'azure', 'chatgpt', 'runpod', 'poe', 'oobabooga', 'openai', 'huggingface', 'pipeline', 'fastchat', 'sophiaIII', 'palm', 'claude', 'huggingchat', 'llamacppapi', 'petal', 'kobold', 'llamacpp', 'custom', 'bard']

# Get a list of Providers for a services
# Service options are llm, tts, image, embeddings, transcription, and translation.
services = sophiaIII.get_providers_by_service(service="tts")
# Status Code: 200
# Response JSON:
# {'providers': ['ezlocalai', 'openai', 'default', 'sophiaIII', 'google']}


# Get Default Provider Settings
# Choose a provider from the list of AI providers and get the default settings for that provider.

provider_name = "ezlocalai"
provider_settings = sophiaIII.get_provider_settings(provider_name=provider_name)
# Status Code: 200
# Response JSON:
# {'settings': {'EZLOCALAI_API_KEY': 'None', 'EZLOCALAI_API_URI': 'http://localhost:8091/v1/', 'AI_MODEL': 'ezlocalai', 'MAX_TOKENS': 8192, 'AI_TEMPERATURE': 1.33, 'AI_TOP_P': 0.95, 'VOICE': 'HAL9000', 'TRANSCRIPTION_MODEL': 'base', 'provider': 'ezlocalai'}}


# Get Embedding Providers
# Embedding providers are used to embed information to vectors to store in the vector database to be searched for context injection.

embed_providers = sophiaIII.get_embed_providers()
# ['default', 'azure', 'openai', 'google_palm', 'google_vertex', 'cohere']

# Get Extension Settings
# This is where we get all third-party extension settings for the agent with defaults to fill in when there is nothing entered on the front end.

ext_settings_resp = sophiaIII.get_extension_settings()
# {'macostts': {'USE_MAC_OS_TTS': False}, 'file_system': {'WORKING_DIRECTORY': './WORKSPACE', 'WORKING_DIRECTORY_RESTRICTED': True}, 'streamlabs_tts': {'USE_STREAMLABS_TTS': True, 'STREAMLABS_VOICE': 'Brian'}, 'whisper_stt': {'WHISPER_MODEL': 'base.en'}, 'huggingface': {'HUGGINGFACE_API_KEY': '', 'HUGGINGFACE_AUDIO_TO_TEXT_MODEL': 'facebook/wav2vec2-large-960h-lv60-self'}, 'discord': {'DISCORD_API_KEY': '', 'DISCORD_COMMAND_PREFIX': '/Sophia III'}, 'dalle': {'OPENAI_API_KEY': ''}, 'google': {'GOOGLE_API_KEY': ''}, 'github': {'GITHUB_USERNAME': '', 'GITHUB_API_KEY': ''}, 'stable_diffusion': {'STABLE_DIFFUSION_API_URL': 'https://api-inference.huggingface.co/models/runwayml/stable-diffusion-v1-5', 'HUGGINGFACE_API_KEY': ''}, 'gtts': {'USE_GTTS': False}, 'elevenlabs': {'ELEVENLABS_API_KEY': '', 'ELEVENLABS_VOICE': 'Nora MA-01'}, 'sendgrid_email': {'SENDGRID_API_KEY': '', 'SENDGRID_EMAIL': ''}, 'searxng': {'SEARXNG_INSTANCE_URL': ''}, 'twitter': {'TW_CONSUMER_KEY': '', 'TW_CONSUMER_SECRET': '', 'TW_ACCESS_TOKEN': '', 'TW_ACCESS_TOKEN_SECRET': ''}}
